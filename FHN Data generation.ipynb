{
 "cells": [
  {
   "cell_type": "markdown",
   "id": "482e5263",
   "metadata": {},
   "source": [
    "Generating Training Data, Validation Data and Test data from FitzhughNagumo Model using classical Euler method\n",
    "Author:Manal Alghmadi\n"
   ]
  },
  {
   "cell_type": "code",
   "execution_count": 1,
   "id": "88f8386a",
   "metadata": {},
   "outputs": [],
   "source": [
    "import torch\n",
    "import torch.nn as nn\n",
    "import torch.optim as optim\n",
    "import pandas as pd\n",
    "import numpy as np\n",
    "import matplotlib.pyplot as plt\n",
    "from torch.utils.data import DataLoader, TensorDataset"
   ]
  },
  {
   "cell_type": "code",
   "execution_count": 2,
   "id": "f52a4b1f",
   "metadata": {},
   "outputs": [],
   "source": [
    "def fhn_equations(U, W, K):\n",
    "  dU_dt = K * U * (U - 0.4) * (1 - U) - W\n",
    "  dW_dt = 0.5 * (0.2 * U - 0.8 * W)\n",
    "  return dU_dt, dW_dt"
   ]
  },
  {
   "cell_type": "code",
   "execution_count": 3,
   "id": "6359faea",
   "metadata": {},
   "outputs": [],
   "source": [
    "def euler_solver(u0, w0, K, t_max, dt):\n",
    "    \"\"\"Solve FHN model using Euler method\"\"\"\n",
    "    t = np.arange(0, t_max, dt)\n",
    "    u = np.zeros_like(t)\n",
    "    w = np.zeros_like(t)\n",
    "    u[0], w[0] = u0, w0\n",
    "    for i in range(1, len(t)):\n",
    "        du_dt, dw_dt = fhn_equations(u[i - 1], w[i - 1], K)\n",
    "        u[i] = u[i - 1] + du_dt * dt\n",
    "        w[i] = w[i - 1] + dw_dt * dt\n",
    "    return t, u, w"
   ]
  },
  {
   "cell_type": "code",
   "execution_count": 4,
   "id": "62e0466f",
   "metadata": {},
   "outputs": [],
   "source": [
    "def generate_fhn_data(num_samples,seed=None):\n",
    "    \"\"\"Generate data for different initial conditions and K values\"\"\"\n",
    "    data = []\n",
    "    t_max = 100\n",
    "    dt = 0.01\n",
    "    if seed is not None:\n",
    "        np.random.seed(seed)  # Set the random seed for reproducibility\n",
    "    for i in range((num_samples)):\n",
    "      u0 = np.random.uniform(.4,0.6)  # Random number from 0 to 0.6\n",
    "      w0 = np.random.uniform(0,.2)   # Random number from 0 to 0.6\n",
    "      K = np.random.uniform(2,2.7) \n",
    "      t, u, w = euler_solver(u0, w0, K, t_max, dt)\n",
    "      data.append({'t': t,'u0': u0, 'w0': w0, 'K': K, 'u': u, 'w': w})\n",
    "    return data"
   ]
  },
  {
   "cell_type": "code",
   "execution_count": null,
   "id": "c3f6d832",
   "metadata": {},
   "outputs": [],
   "source": [
    "from sklearn.model_selection import train_test_split\n",
    "\n",
    "# Assuming `data` is your complete dataset\n",
    "training_data, validation_data = train_test_split(generate_fhn_data(num_samples=1000,seed=42), test_size=0.2, random_state=42)\n",
    "test_data, validation_data = train_test_split(validation_data, test_size=0.5, random_state=42)"
   ]
  },
  {
   "cell_type": "code",
   "execution_count": null,
   "id": "43d996cf",
   "metadata": {},
   "outputs": [],
   "source": [
    "# Randomly select four samples to plot\n",
    "num_samples = len(training_data)\n",
    "random_indices = np.random.choice(num_samples, size=4, replace=False)\n",
    "\n",
    "# Create a figure with 4 subplots\n",
    "fig, axs = plt.subplots(2, 2, figsize=(12, 10))  # 2 rows, 2 columns\n",
    "\n",
    "# Flatten the array of axes for easy iteration\n",
    "axs = axs.flatten()\n",
    "\n",
    "# Loop through the randomly selected samples and plot their u and w values\n",
    "for i, idx in enumerate(random_indices):\n",
    "    axs[i].plot(training_data[idx]['t'], training_data[idx]['u'], label='u', color='blue')\n",
    "    axs[i].plot(training_data[idx]['t'], training_data[idx]['w'], label='w', color='orange', linestyle='dotted')\n",
    "    \n",
    "    # Set labels and title for each subplot\n",
    "    axs[i].set_xlabel('Time')\n",
    "    axs[i].set_ylabel('Value')\n",
    "    axs[i].set_title(f\"FHN Model Sample: u0={training_data[idx]['u0']:.2f}, w0={training_data[idx]['w0']:.2f}, K={training_data[idx]['K']:.2f}\")\n",
    "    axs[i].legend()\n",
    "    axs[i].grid()\n",
    "\n",
    "plt.tight_layout()\n",
    "plt.show()"
   ]
  },
  {
   "cell_type": "code",
   "execution_count": null,
   "id": "2648e5a9",
   "metadata": {},
   "outputs": [],
   "source": [
    "#helper method to transform generated data to tensors and return it as batches\n",
    "def Transform_to_Tensors (Data,batch_size):\n",
    "    t = torch.FloatTensor(Data[0]['t']).reshape(-1, 1).requires_grad_(True)\n",
    "    U0 = torch.FloatTensor([Data[0]['u0']]).reshape(-1, 1) #Single value\n",
    "    W0 = torch.FloatTensor([Data[0]['w0']]).reshape(-1, 1)\n",
    "    K = torch.FloatTensor([Data[0]['K']]).reshape(-1, 1)\n",
    "    U_true = torch.FloatTensor(Data[0]['u']).reshape(-1, 1)\n",
    "    W_true = torch.FloatTensor(Data[0]['w']).reshape(-1, 1)\n",
    "    # Create a TensorDataset\n",
    "    dataset = TensorDataset(t, U0.expand_as(t), W0.expand_as(t), K.expand_as(t), U_true, W_true)\n",
    "\n",
    "    # Create DataLoader for batching\n",
    "    batch_size = 1000  # You can adjust this value\n",
    "    data_loader= DataLoader(dataset, batch_size=batch_size, shuffle=False)\n",
    "    return data_loader"
   ]
  },
  {
   "cell_type": "code",
   "execution_count": null,
   "id": "459702e4",
   "metadata": {},
   "outputs": [],
   "source": [
    "test_data = Transform_to_Tensors(test_data,1000)\n",
    "training_data = Transform_to_Tensors(training_data,1000)\n",
    "validation_data = Transform_to_Tensors(validation_data,1000)"
   ]
  }
 ],
 "metadata": {
  "kernelspec": {
   "display_name": "Python 3 (ipykernel)",
   "language": "python",
   "name": "python3"
  },
  "language_info": {
   "codemirror_mode": {
    "name": "ipython",
    "version": 3
   },
   "file_extension": ".py",
   "mimetype": "text/x-python",
   "name": "python",
   "nbconvert_exporter": "python",
   "pygments_lexer": "ipython3",
   "version": "3.7.2"
  }
 },
 "nbformat": 4,
 "nbformat_minor": 5
}
